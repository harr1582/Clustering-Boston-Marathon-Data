{
  "nbformat": 4,
  "nbformat_minor": 0,
  "metadata": {
    "colab": {
      "name": "Boston Marathon",
      "version": "0.3.2",
      "provenance": []
    },
    "kernelspec": {
      "name": "python3",
      "display_name": "Python 3"
    }
  },
  "cells": [
    {
      "cell_type": "markdown",
      "metadata": {
        "id": "43gSLG3pmY3O",
        "colab_type": "text"
      },
      "source": [
        "Boston Marathon runners are most appropriately divided into 4 clusters according to Kmeans Clustering. This algorithm provides that smallest standard deviation using Silhouette analysis among clusters when the data is randomly quartered. However, the algorithm itself has a relatively high standard deviation when predicting a single training set. \n",
        "\n",
        "From the data we can surmise that most runners belong to one cluster (17,521/31649 = 55.36%) with males making up the majority of that group (9358/17521 = 53.41%). The smallest cluster contained only 264 runners (.83%) with 85.98% of those runners being male."
      ]
    },
    {
      "cell_type": "markdown",
      "metadata": {
        "id": "H9nR_mk4639o",
        "colab_type": "text"
      },
      "source": [
        "#Question I still have: Is there an easy way to tell which cluster represents which group? "
      ]
    },
    {
      "cell_type": "code",
      "metadata": {
        "id": "jzFhYLyJ2VOf",
        "colab_type": "code",
        "colab": {}
      },
      "source": [
        "import numpy as np\n",
        "import pandas as pd\n",
        "import matplotlib.pyplot as plt\n",
        "%matplotlib inline\n",
        "import math\n",
        "import scipy\n",
        "import seaborn as sns"
      ],
      "execution_count": 0,
      "outputs": []
    },
    {
      "cell_type": "code",
      "metadata": {
        "id": "hBbdf5g52fVt",
        "colab_type": "code",
        "outputId": "d2592c65-f7b8-47c6-da29-376fdd4742bd",
        "colab": {
          "base_uri": "https://localhost:8080/",
          "height": 402
        }
      },
      "source": [
        "df= pd.read_csv('https://raw.githubusercontent.com/llimllib/bostonmarathon/master/results/2014/results.csv')\n",
        "df.head(3)\n",
        "print (df.dtypes)"
      ],
      "execution_count": 48,
      "outputs": [
        {
          "output_type": "stream",
          "text": [
            "10k           object\n",
            "name          object\n",
            "division       int64\n",
            "25k           object\n",
            "gender        object\n",
            "age            int64\n",
            "official     float64\n",
            "bib           object\n",
            "genderdiv      int64\n",
            "ctz           object\n",
            "35k           object\n",
            "overall        int64\n",
            "pace         float64\n",
            "state         object\n",
            "30k           object\n",
            "5k            object\n",
            "half          object\n",
            "20k           object\n",
            "country       object\n",
            "city          object\n",
            "40k           object\n",
            "dtype: object\n"
          ],
          "name": "stdout"
        }
      ]
    },
    {
      "cell_type": "code",
      "metadata": {
        "id": "Qgc0hGzo5Wdr",
        "colab_type": "code",
        "outputId": "de258913-719f-47f2-82c9-aab9994808b9",
        "colab": {
          "base_uri": "https://localhost:8080/",
          "height": 87
        }
      },
      "source": [
        "df.gender.head(3)"
      ],
      "execution_count": 41,
      "outputs": [
        {
          "output_type": "execute_result",
          "data": {
            "text/plain": [
              "0    M\n",
              "1    F\n",
              "2    M\n",
              "Name: gender, dtype: object"
            ]
          },
          "metadata": {
            "tags": []
          },
          "execution_count": 41
        }
      ]
    },
    {
      "cell_type": "markdown",
      "metadata": {
        "id": "dkAo96mn3HjH",
        "colab_type": "text"
      },
      "source": [
        "## Turning data into numbers"
      ]
    },
    {
      "cell_type": "code",
      "metadata": {
        "id": "2jPkFlYw30Wt",
        "colab_type": "code",
        "outputId": "d5494842-2690-4d36-e8d6-198217a01711",
        "colab": {
          "base_uri": "https://localhost:8080/",
          "height": 279
        }
      },
      "source": [
        "df_num = pd.DataFrame()\n",
        "\n",
        "df_num['official int'] = pd.to_numeric(df['official'], errors='coerce')\n",
        "df_num['half int'] = pd.to_numeric(df['half'], errors='coerce')\n",
        "df_num['age int'] = pd.to_numeric(df['age'], errors='coerce')\n",
        "df_num['pace int']=pd.to_numeric(df['pace'], errors = 'coerce')\n",
        "df_num['10k int']= pd.to_numeric(df['10k'], errors = 'coerce')\n",
        "df_num['division'] = df['division']\n",
        "df_num['25k int'] =pd.to_numeric(df['25k'], errors = 'coerce')\n",
        "df_num['genderdiv int'] = pd.to_numeric(df['genderdiv'], errors = 'coerce')\n",
        "df_num['35k int'] = pd.to_numeric(df['35k'], errors = 'coerce')\n",
        "df_num['overall int'] = df['overall']\n",
        "df_num['5k int'] = pd.to_numeric(df['5k'], errors = 'coerce')    \n",
        "df_num['30k int']  = pd.to_numeric(df['30k'], errors = 'coerce')     \n",
        "df_num['20k int'] = pd.to_numeric(df['20k'], errors = 'coerce')    \n",
        "df_num['40k int']  = pd.to_numeric(df['40k'], errors = 'coerce')\n",
        "\n",
        "                                    \n",
        "  \n",
        "print (df_num.dtypes)"
      ],
      "execution_count": 42,
      "outputs": [
        {
          "output_type": "stream",
          "text": [
            "official int     float64\n",
            "half int         float64\n",
            "age int            int64\n",
            "pace int         float64\n",
            "10k int          float64\n",
            "division           int64\n",
            "25k int          float64\n",
            "genderdiv int      int64\n",
            "35k int          float64\n",
            "overall int        int64\n",
            "5k int           float64\n",
            "30k int          float64\n",
            "20k int          float64\n",
            "40k int          float64\n",
            "dtype: object\n"
          ],
          "name": "stdout"
        }
      ]
    },
    {
      "cell_type": "code",
      "metadata": {
        "id": "Cr1qG2Ye5cCi",
        "colab_type": "code",
        "colab": {}
      },
      "source": [
        "df_num['gender']= df.gender.replace(to_replace = 'M', value = 0).replace(to_replace = 'F', value = 1)\n",
        "df_num.gender.head(3)\n",
        "df_num = df_num.dropna()"
      ],
      "execution_count": 0,
      "outputs": []
    },
    {
      "cell_type": "code",
      "metadata": {
        "colab_type": "code",
        "id": "oCEBsrKpuBOz",
        "colab": {}
      },
      "source": [
        "# df_num = pd.concat([df_num, df['country'].str.get_dummies(sep=',')], axis=1)\n",
        "# df_num = df_num.dropna()"
      ],
      "execution_count": 0,
      "outputs": []
    },
    {
      "cell_type": "code",
      "metadata": {
        "id": "n5GgxnT58psr",
        "colab_type": "code",
        "outputId": "5ea61ba5-0f3e-4fa2-98e3-1bf14ccd8716",
        "colab": {
          "base_uri": "https://localhost:8080/",
          "height": 367
        }
      },
      "source": [
        "df_num.info()"
      ],
      "execution_count": 49,
      "outputs": [
        {
          "output_type": "stream",
          "text": [
            "<class 'pandas.core.frame.DataFrame'>\n",
            "Int64Index: 31649 entries, 0 to 31983\n",
            "Data columns (total 15 columns):\n",
            "official int     31649 non-null float64\n",
            "half int         31649 non-null float64\n",
            "age int          31649 non-null int64\n",
            "pace int         31649 non-null float64\n",
            "10k int          31649 non-null float64\n",
            "division         31649 non-null int64\n",
            "25k int          31649 non-null float64\n",
            "genderdiv int    31649 non-null int64\n",
            "35k int          31649 non-null float64\n",
            "overall int      31649 non-null int64\n",
            "5k int           31649 non-null float64\n",
            "30k int          31649 non-null float64\n",
            "20k int          31649 non-null float64\n",
            "40k int          31649 non-null float64\n",
            "gender           31649 non-null int64\n",
            "dtypes: float64(10), int64(5)\n",
            "memory usage: 3.9 MB\n"
          ],
          "name": "stdout"
        }
      ]
    },
    {
      "cell_type": "code",
      "metadata": {
        "id": "VHwiaQ8Lt93D",
        "colab_type": "code",
        "colab": {}
      },
      "source": [
        "X = df_num[['official int', 'pace int', 'age int', 'division', 'overall int']]\n",
        "y = df_num['gender']"
      ],
      "execution_count": 0,
      "outputs": []
    },
    {
      "cell_type": "code",
      "metadata": {
        "id": "JjH5FWyE9B7p",
        "colab_type": "code",
        "colab": {}
      },
      "source": [
        "#This is a critical step in getting a more accurate crosstab\n",
        "#y= np.where(y>0, 0,1)"
      ],
      "execution_count": 0,
      "outputs": []
    },
    {
      "cell_type": "markdown",
      "metadata": {
        "id": "DGxcMP7l9pdC",
        "colab_type": "text"
      },
      "source": [
        "## Kmeans"
      ]
    },
    {
      "cell_type": "code",
      "metadata": {
        "id": "prIqSTDOxBXL",
        "colab_type": "code",
        "outputId": "884f5c05-5cb7-44d7-82f7-ae4f33c4ffed",
        "colab": {
          "base_uri": "https://localhost:8080/",
          "height": 368
        }
      },
      "source": [
        "from sklearn.preprocessing import normalize\n",
        "from sklearn.decomposition import PCA \n",
        "from sklearn.cluster import KMeans\n",
        "\n",
        "X_norm = normalize(X)\n",
        "\n",
        "X_pca = PCA(2).fit_transform(X_norm)\n",
        "\n",
        "y_pred = KMeans(n_clusters = 2, random_state = 42).fit_predict(X_pca)\n",
        "\n",
        "plt.scatter(X_pca[:, 0], X_pca[:,1], c=y_pred)\n",
        "plt.title('Two Clusters')\n",
        "plt.show()\n",
        "\n",
        "print('Crosstab:', pd.crosstab(y_pred, y))\n",
        "print ('Stdev:', y_pred.std())\n",
        "\n",
        "\n"
      ],
      "execution_count": 55,
      "outputs": [
        {
          "output_type": "display_data",
          "data": {
            "image/png": "[encoded data removed]",
            "text/plain": [
              "<Figure size 432x288 with 1 Axes>"
            ]
          },
          "metadata": {
            "tags": []
          }
        },
        {
          "output_type": "stream",
          "text": [
            "Crosstab: gender      0      1\n",
            "row_0               \n",
            "0       14153  14131\n",
            "1        3331     34\n",
            "Stdev: 0.30824990840124844\n"
          ],
          "name": "stdout"
        }
      ]
    },
    {
      "cell_type": "code",
      "metadata": {
        "id": "ZPFPSgfaCn8S",
        "colab_type": "code",
        "colab": {
          "base_uri": "https://localhost:8080/",
          "height": 386
        },
        "outputId": "af5b3710-bab1-45a6-87cc-9c6c26836c24"
      },
      "source": [
        "\n",
        "\n",
        "y_pred = KMeans(n_clusters = 3, random_state = 42).fit_predict(X_pca)\n",
        "\n",
        "plt.scatter(X_pca[:, 0], X_pca[:,1], c=y_pred)\n",
        "\n",
        "plt.title('Three Clusters: Optimal According to Elbow Method')\n",
        "plt.show()\n",
        "print ('Stdev:', y_pred.std())\n",
        "print('Crosstab:', pd.crosstab(y_pred, y))\n",
        "\n"
      ],
      "execution_count": 56,
      "outputs": [
        {
          "output_type": "display_data",
          "data": {
            "image/png": "[encoded data removed]",
            "text/plain": [
              "<Figure size 432x288 with 1 Axes>"
            ]
          },
          "metadata": {
            "tags": []
          }
        },
        {
          "output_type": "stream",
          "text": [
            "Stdev: 0.348090005845548\n",
            "Crosstab: gender      0      1\n",
            "row_0               \n",
            "0       14048  14128\n",
            "1        3205      0\n",
            "2         231     37\n"
          ],
          "name": "stdout"
        }
      ]
    },
    {
      "cell_type": "code",
      "metadata": {
        "id": "8dxwak_rD06v",
        "colab_type": "code",
        "colab": {
          "base_uri": "https://localhost:8080/",
          "height": 403
        },
        "outputId": "b5c0f132-0c14-41d1-e2d4-9a1b7f92b307"
      },
      "source": [
        "\n",
        "\n",
        "y_pred = KMeans(n_clusters = 4, random_state = 42).fit_predict(X_pca)\n",
        "\n",
        "plt.scatter(X_pca[:, 0], X_pca[:,1], c=y_pred)\n",
        "plt.title('Four Clusters')\n",
        "plt.show()\n",
        "print ('Stdev:', y_pred.std())\n",
        "print('Crosstab:', pd.crosstab(y_pred, y))"
      ],
      "execution_count": 58,
      "outputs": [
        {
          "output_type": "display_data",
          "data": {
            "image/png": "[encoded data removed]",
            "text/plain": [
              "<Figure size 432x288 with 1 Axes>"
            ]
          },
          "metadata": {
            "tags": []
          }
        },
        {
          "output_type": "stream",
          "text": [
            "Stdev: 1.3857306549958779\n",
            "Crosstab: gender     0     1\n",
            "row_0             \n",
            "0       9358  8163\n",
            "1       2952     0\n",
            "2        227    37\n",
            "3       4947  5965\n"
          ],
          "name": "stdout"
        }
      ]
    },
    {
      "cell_type": "code",
      "metadata": {
        "id": "X44NAPBLECrW",
        "colab_type": "code",
        "colab": {
          "base_uri": "https://localhost:8080/",
          "height": 421
        },
        "outputId": "64b65a13-32f2-4e44-f51e-2d1a9993adfc"
      },
      "source": [
        "\n",
        "y_pred = KMeans(n_clusters = 5, random_state = 42).fit_predict(X_pca)\n",
        "\n",
        "plt.scatter(X_pca[:, 0], X_pca[:,1], c=y_pred)\n",
        "plt.title('Five Clusters')\n",
        "plt.show()\n",
        "print ('Stdev:', y_pred.std())\n",
        "print('Crosstab:', pd.crosstab(y_pred, y))\n"
      ],
      "execution_count": 59,
      "outputs": [
        {
          "output_type": "display_data",
          "data": {
            "image/png": "[encoded data removed]",
            "text/plain": [
              "<Figure size 432x288 with 1 Axes>"
            ]
          },
          "metadata": {
            "tags": []
          }
        },
        {
          "output_type": "stream",
          "text": [
            "Stdev: 0.6993561955853309\n",
            "Crosstab: gender     0     1\n",
            "row_0             \n",
            "0       2592     0\n",
            "1       9198  8137\n",
            "2       5029  5992\n",
            "3        180    36\n",
            "4        485     0\n"
          ],
          "name": "stdout"
        }
      ]
    },
    {
      "cell_type": "code",
      "metadata": {
        "id": "cJ75J1-iMnGw",
        "colab_type": "code",
        "colab": {
          "base_uri": "https://localhost:8080/",
          "height": 392
        },
        "outputId": "4144b107-f108-41e9-c434-91c18acf8c19"
      },
      "source": [
        "\n",
        "#Elbow Method evaluation\n",
        "\n",
        "sse = []\n",
        "list_k = list(range(1, 10))\n",
        "\n",
        "for k in list_k:\n",
        "    km = KMeans(n_clusters=k)\n",
        "    km.fit(X_pca)\n",
        "    sse.append(km.inertia_)\n",
        "\n",
        "# Plot sse against k\n",
        "plt.figure(figsize=(6, 6))\n",
        "plt.plot(list_k, sse, '-o')\n",
        "plt.xlabel(r'Number of clusters *k*')\n",
        "plt.ylabel('Sum of squared distance');"
      ],
      "execution_count": 60,
      "outputs": [
        {
          "output_type": "display_data",
          "data": {
            "image/png": "[encoded data removed]",
            "text/plain": [
              "<Figure size 432x432 with 1 Axes>"
            ]
          },
          "metadata": {
            "tags": []
          }
        }
      ]
    },
    {
      "cell_type": "markdown",
      "metadata": {
        "id": "wke1oWvIx15_",
        "colab_type": "text"
      },
      "source": [
        "Four clusters appears to be best"
      ]
    },
    {
      "cell_type": "code",
      "metadata": {
        "id": "C1Ix1hgZPvPz",
        "colab_type": "code",
        "colab": {}
      },
      "source": [
        "#Don't have the memory to run RI\n",
        "\n",
        "# # Note: the itertools module is tons of fun and very useful.\n",
        "# import itertools\n",
        "\n",
        "# # Create a list of pairs, where each pair is the ground truth group\n",
        "# # and the assigned cluster.\n",
        "# c = list(itertools.product(y, y_pred))\n",
        "\n",
        "# # Count how often each type of pair (a, b, c, or d) appears.\n",
        "# RIcounts = [[x, c.count(x)] for x in set(c)]\n",
        "# print(RIcounts)\n",
        "\n",
        "# # Create the same counts but without the label, for easier math below.\n",
        "# RIcounts_nolabel = [c.count(x) for x in set(c)]\n",
        "\n",
        "# # Calculate the Rand Index.\n",
        "# RIscore = (RIcounts_nolabel[3] + RIcounts_nolabel[2]) / np.sum(RIcounts_nolabel)\n",
        "# print(RIscore)"
      ],
      "execution_count": 0,
      "outputs": []
    },
    {
      "cell_type": "code",
      "metadata": {
        "id": "-S5m7CnZRJqU",
        "colab_type": "code",
        "colab": {
          "base_uri": "https://localhost:8080/",
          "height": 34
        },
        "outputId": "62da53a0-bd99-4b4c-e77f-ab25dfd2193c"
      },
      "source": [
        "# Try ARI?\n",
        "\n",
        "from sklearn import metrics\n",
        "    \n",
        "metrics.adjusted_rand_score(y, y_pred)"
      ],
      "execution_count": 61,
      "outputs": [
        {
          "output_type": "execute_result",
          "data": {
            "text/plain": [
              "0.008556722820148688"
            ]
          },
          "metadata": {
            "tags": []
          },
          "execution_count": 61
        }
      ]
    },
    {
      "cell_type": "code",
      "metadata": {
        "id": "HycbPRL6fAdn",
        "colab_type": "code",
        "colab": {}
      },
      "source": [
        "from sklearn.model_selection import train_test_split\n",
        "X_train, X_test, y_train, y_test = train_test_split(X_pca, y, test_size=0.9, random_state=42)"
      ],
      "execution_count": 0,
      "outputs": []
    },
    {
      "cell_type": "code",
      "metadata": {
        "id": "MXVl0UDW2kne",
        "colab_type": "code",
        "colab": {}
      },
      "source": [
        "#Set up for Silhouette: Dividing the data into 4ths\n",
        "\n",
        "from sklearn.model_selection import train_test_split\n",
        "\n",
        "X_half1, X_half2, X_pcahalf1, X_pcahalf2 = train_test_split(\n",
        "    X_norm,\n",
        "    X_pca,\n",
        "    test_size=0.5,\n",
        "    random_state=42)\n",
        "\n",
        "\n",
        "X1, X2, X_pca1, X_pca2 = train_test_split(\n",
        "    X_half1,\n",
        "    X_pcahalf1,\n",
        "    test_size=0.5,\n",
        "    random_state=42)\n",
        "X3, X4, X_pca3, X_pca4 = train_test_split(\n",
        "    X_half2,\n",
        "    X_pcahalf2,\n",
        "    test_size=0.5,\n",
        "    random_state=42)\n"
      ],
      "execution_count": 0,
      "outputs": []
    },
    {
      "cell_type": "code",
      "metadata": {
        "id": "Bpg012fbRmo1",
        "colab_type": "code",
        "colab": {
          "base_uri": "https://localhost:8080/",
          "height": 52
        },
        "outputId": "f2d9b776-b1e9-47e6-da15-346926badc38"
      },
      "source": [
        "#KMeans: Checking consistency of coefficients for 3 clusters with Silhouette \n",
        "\n",
        "from sklearn import metrics\n",
        "from sklearn.metrics import pairwise_distances\n",
        "import statistics as sts\n",
        "\n",
        "sil_3 = []\n",
        "\n",
        "for sample in [X1, X2, X3, X4]:\n",
        "    model = KMeans(n_clusters=3, random_state=42).fit(sample)\n",
        "    labels = model.labels_\n",
        "    sil_3.append(metrics.silhouette_score(sample, labels, metric='euclidean'))\n",
        "    \n",
        "print(sil_3)\n",
        "print(sts.stdev(sil_3))"
      ],
      "execution_count": 65,
      "outputs": [
        {
          "output_type": "stream",
          "text": [
            "[0.7758944391771403, 0.7782599665878386, 0.7762479087316129, 0.7810499324761893]\n",
            "0.002366282075529708\n"
          ],
          "name": "stdout"
        }
      ]
    },
    {
      "cell_type": "code",
      "metadata": {
        "id": "jpvLv107SVuU",
        "colab_type": "code",
        "colab": {
          "base_uri": "https://localhost:8080/",
          "height": 52
        },
        "outputId": "bffd89e8-04fc-453d-fb5a-f378575f03cb"
      },
      "source": [
        "#KMeans: Checking consistency of coefficients for 4 clusters with Silhouette\n",
        "\n",
        "from sklearn import metrics\n",
        "from sklearn.metrics import pairwise_distances\n",
        "\n",
        "sil_4 = []\n",
        "\n",
        "for sample in [X1, X2, X3, X4]:\n",
        "    model = KMeans(n_clusters=4, random_state=42).fit(sample)\n",
        "    labels = model.labels_\n",
        "    sil_4.append(metrics.silhouette_score(sample, labels, metric='euclidean'))\n",
        "    \n",
        "print(sil_4)\n",
        "print(sts.stdev(sil_4))"
      ],
      "execution_count": 66,
      "outputs": [
        {
          "output_type": "stream",
          "text": [
            "[0.6314764899138506, 0.6351988730170198, 0.6323652007058245, 0.6355450372437715]\n",
            "0.002030186958991663\n"
          ],
          "name": "stdout"
        }
      ]
    },
    {
      "cell_type": "markdown",
      "metadata": {
        "id": "bqt8pdj-bxUA",
        "colab_type": "text"
      },
      "source": [
        "#KMeans conclusion: 4 clusters slightly better than 3"
      ]
    },
    {
      "cell_type": "markdown",
      "metadata": {
        "id": "F6d_5m-hb5sV",
        "colab_type": "text"
      },
      "source": [
        "Based on elbow and silhouette analysis"
      ]
    },
    {
      "cell_type": "markdown",
      "metadata": {
        "id": "15LdhWSF-JuL",
        "colab_type": "text"
      },
      "source": [
        "## Mean Shift"
      ]
    },
    {
      "cell_type": "code",
      "metadata": {
        "id": "XMUJlkzo-Ify",
        "colab_type": "code",
        "outputId": "1c88856b-90ab-4dcd-b4ed-763cdd954daf",
        "colab": {
          "base_uri": "https://localhost:8080/",
          "height": 52
        }
      },
      "source": [
        "#Number of clusters depends heavily on which sample you use in the \n",
        "#bandwidth definition. \n",
        "#X_train = 7\n",
        "#X_pca = 6\n",
        "#X1 = 5\n",
        "#X2 = 4\n",
        "#X3 = 3\n",
        "#X4 = 4\n",
        "\n",
        "\n",
        "from sklearn.cluster import MeanShift, estimate_bandwidth\n",
        "\n",
        "bandwidth = estimate_bandwidth(X_train, quantile = .2, n_samples = 500)\n",
        "\n",
        "ms = MeanShift(bandwidth = bandwidth, bin_seeding = True)\n",
        "ms.fit(X_train)"
      ],
      "execution_count": 67,
      "outputs": [
        {
          "output_type": "execute_result",
          "data": {
            "text/plain": [
              "MeanShift(bandwidth=0.07083044676082843, bin_seeding=True, cluster_all=True,\n",
              "          min_bin_freq=1, n_jobs=None, seeds=None)"
            ]
          },
          "metadata": {
            "tags": []
          },
          "execution_count": 67
        }
      ]
    },
    {
      "cell_type": "code",
      "metadata": {
        "id": "PGQRFbgu_Ceq",
        "colab_type": "code",
        "outputId": "5bb69a1b-73d1-426c-d308-7c67268f74f6",
        "colab": {
          "base_uri": "https://localhost:8080/",
          "height": 34
        }
      },
      "source": [
        "\n",
        "#extracting assignments for each data point\n",
        "labels = ms.labels_\n",
        "\n",
        "#coordinates of center clusters\n",
        "cluster_centers = ms.cluster_centers_\n",
        "\n",
        "n_clusters_ = len(np.unique(labels))\n",
        "\n",
        "print ('Num. estimated clusters:', n_clusters_)"
      ],
      "execution_count": 68,
      "outputs": [
        {
          "output_type": "stream",
          "text": [
            "Num. estimated clusters: 20\n"
          ],
          "name": "stdout"
        }
      ]
    },
    {
      "cell_type": "code",
      "metadata": {
        "id": "fDfnNavKkoMu",
        "colab_type": "code",
        "colab": {}
      },
      "source": [
        "y_pred_ms = ms.fit_predict(X_pca)"
      ],
      "execution_count": 0,
      "outputs": []
    },
    {
      "cell_type": "code",
      "metadata": {
        "id": "WBMEDuLrAL1L",
        "colab_type": "code",
        "outputId": "dda381f5-0b5f-4aab-c936-b410ea970640",
        "colab": {
          "base_uri": "https://localhost:8080/",
          "height": 286
        }
      },
      "source": [
        "plt.scatter(X_train[:,0], X_train[:, 1], c= labels)\n",
        "plt.show()\n",
        "print ('Stdev:', y_pred_ms.std())\n"
      ],
      "execution_count": 70,
      "outputs": [
        {
          "output_type": "display_data",
          "data": {
            "image/png": "[encoded data removed]",
            "text/plain": [
              "<Figure size 432x288 with 1 Axes>"
            ]
          },
          "metadata": {
            "tags": []
          }
        },
        {
          "output_type": "stream",
          "text": [
            "Stdev: 1.251552430764315\n"
          ],
          "name": "stdout"
        }
      ]
    },
    {
      "cell_type": "code",
      "metadata": {
        "id": "gMUCDRwbcrou",
        "colab_type": "code",
        "colab": {
          "base_uri": "https://localhost:8080/",
          "height": 349
        },
        "outputId": "1e2865e0-03ac-4ea0-f448-80a7eaadf0ce"
      },
      "source": [
        "\n",
        "from sklearn import metrics\n",
        "    \n",
        "metrics.adjusted_rand_score(#what can I put here)"
      ],
      "execution_count": 76,
      "outputs": [
        {
          "output_type": "error",
          "ename": "ValueError",
          "evalue": "ignored",
          "traceback": [
            "\u001b[0;31m---------------------------------------------------------------------------\u001b[0m",
            "\u001b[0;31mValueError\u001b[0m                                Traceback (most recent call last)",
            "\u001b[0;32m<ipython-input-76-a36be1df788e>\u001b[0m in \u001b[0;36m<module>\u001b[0;34m()\u001b[0m\n\u001b[1;32m      2\u001b[0m \u001b[0;32mfrom\u001b[0m \u001b[0msklearn\u001b[0m \u001b[0;32mimport\u001b[0m \u001b[0mmetrics\u001b[0m\u001b[0;34m\u001b[0m\u001b[0;34m\u001b[0m\u001b[0m\n\u001b[1;32m      3\u001b[0m \u001b[0;34m\u001b[0m\u001b[0m\n\u001b[0;32m----> 4\u001b[0;31m \u001b[0mmetrics\u001b[0m\u001b[0;34m.\u001b[0m\u001b[0madjusted_rand_score\u001b[0m\u001b[0;34m(\u001b[0m\u001b[0mX_train\u001b[0m\u001b[0;34m,\u001b[0m \u001b[0my_train\u001b[0m \u001b[0;34m)\u001b[0m\u001b[0;34m\u001b[0m\u001b[0;34m\u001b[0m\u001b[0m\n\u001b[0m",
            "\u001b[0;32m/usr/local/lib/python3.6/dist-packages/sklearn/metrics/cluster/supervised.py\u001b[0m in \u001b[0;36madjusted_rand_score\u001b[0;34m(labels_true, labels_pred)\u001b[0m\n\u001b[1;32m    216\u001b[0m \u001b[0;34m\u001b[0m\u001b[0m\n\u001b[1;32m    217\u001b[0m     \"\"\"\n\u001b[0;32m--> 218\u001b[0;31m     \u001b[0mlabels_true\u001b[0m\u001b[0;34m,\u001b[0m \u001b[0mlabels_pred\u001b[0m \u001b[0;34m=\u001b[0m \u001b[0mcheck_clusterings\u001b[0m\u001b[0;34m(\u001b[0m\u001b[0mlabels_true\u001b[0m\u001b[0;34m,\u001b[0m \u001b[0mlabels_pred\u001b[0m\u001b[0;34m)\u001b[0m\u001b[0;34m\u001b[0m\u001b[0;34m\u001b[0m\u001b[0m\n\u001b[0m\u001b[1;32m    219\u001b[0m     \u001b[0mn_samples\u001b[0m \u001b[0;34m=\u001b[0m \u001b[0mlabels_true\u001b[0m\u001b[0;34m.\u001b[0m\u001b[0mshape\u001b[0m\u001b[0;34m[\u001b[0m\u001b[0;36m0\u001b[0m\u001b[0;34m]\u001b[0m\u001b[0;34m\u001b[0m\u001b[0;34m\u001b[0m\u001b[0m\n\u001b[1;32m    220\u001b[0m     \u001b[0mn_classes\u001b[0m \u001b[0;34m=\u001b[0m \u001b[0mnp\u001b[0m\u001b[0;34m.\u001b[0m\u001b[0munique\u001b[0m\u001b[0;34m(\u001b[0m\u001b[0mlabels_true\u001b[0m\u001b[0;34m)\u001b[0m\u001b[0;34m.\u001b[0m\u001b[0mshape\u001b[0m\u001b[0;34m[\u001b[0m\u001b[0;36m0\u001b[0m\u001b[0;34m]\u001b[0m\u001b[0;34m\u001b[0m\u001b[0;34m\u001b[0m\u001b[0m\n",
            "\u001b[0;32m/usr/local/lib/python3.6/dist-packages/sklearn/metrics/cluster/supervised.py\u001b[0m in \u001b[0;36mcheck_clusterings\u001b[0;34m(labels_true, labels_pred)\u001b[0m\n\u001b[1;32m     50\u001b[0m     \u001b[0;32mif\u001b[0m \u001b[0mlabels_true\u001b[0m\u001b[0;34m.\u001b[0m\u001b[0mndim\u001b[0m \u001b[0;34m!=\u001b[0m \u001b[0;36m1\u001b[0m\u001b[0;34m:\u001b[0m\u001b[0;34m\u001b[0m\u001b[0;34m\u001b[0m\u001b[0m\n\u001b[1;32m     51\u001b[0m         raise ValueError(\n\u001b[0;32m---> 52\u001b[0;31m             \"labels_true must be 1D: shape is %r\" % (labels_true.shape,))\n\u001b[0m\u001b[1;32m     53\u001b[0m     \u001b[0;32mif\u001b[0m \u001b[0mlabels_pred\u001b[0m\u001b[0;34m.\u001b[0m\u001b[0mndim\u001b[0m \u001b[0;34m!=\u001b[0m \u001b[0;36m1\u001b[0m\u001b[0;34m:\u001b[0m\u001b[0;34m\u001b[0m\u001b[0;34m\u001b[0m\u001b[0m\n\u001b[1;32m     54\u001b[0m         raise ValueError(\n",
            "\u001b[0;31mValueError\u001b[0m: labels_true must be 1D: shape is (3164, 2)"
          ]
        }
      ]
    },
    {
      "cell_type": "code",
      "metadata": {
        "id": "f-sH1VmLcE5E",
        "colab_type": "code",
        "colab": {
          "base_uri": "https://localhost:8080/",
          "height": 52
        },
        "outputId": "9ab54564-7058-4873-ab77-256b66294cb2"
      },
      "source": [
        "#Meanshift: Checking consistency of coefficients for 7 clusters with Silhouette\n",
        "\n",
        "sil_20 = []\n",
        "\n",
        "for sample in [X1, X2, X3, X4]:\n",
        "    model = ms.fit(sample)\n",
        "    labels = model.labels_\n",
        "    sil_20.append(metrics.silhouette_score(sample, labels, metric='euclidean'))\n",
        "    \n",
        "print(sil_20)\n",
        "print(sts.stdev(sil_20))"
      ],
      "execution_count": 71,
      "outputs": [
        {
          "output_type": "stream",
          "text": [
            "[0.6321888829771477, 0.6359906292184591, 0.6308072730900295, 0.6298966768689281]\n",
            "0.0026840415837009798\n"
          ],
          "name": "stdout"
        }
      ]
    },
    {
      "cell_type": "markdown",
      "metadata": {
        "id": "3y_0yXlxh56B",
        "colab_type": "text"
      },
      "source": [
        "Silhouette suggests that Mean Shift performs worse than kmeans (higher stdev). 20 clusters used for Mean Shift compared to 4 (and 3) for Kmeans. The appearance of the plot suggests unequal clusters"
      ]
    },
    {
      "cell_type": "markdown",
      "metadata": {
        "id": "ukrkvKyQDMZR",
        "colab_type": "text"
      },
      "source": [
        "## Spectral Clustering"
      ]
    },
    {
      "cell_type": "code",
      "metadata": {
        "id": "FPxjMk_d70Wp",
        "colab_type": "code",
        "outputId": "bbfe27db-2eb3-4679-e46f-4a15ee260417",
        "colab": {
          "base_uri": "https://localhost:8080/",
          "height": 286
        }
      },
      "source": [
        "from sklearn.cluster import SpectralClustering\n",
        "\n",
        "# compare 4 clusters to the 4 clusters of kmean\n",
        "n_clusters=4\n",
        "\n",
        "# Declare and fit the model.\n",
        "sc = SpectralClustering(n_clusters=n_clusters)\n",
        "sc.fit(X_train)\n",
        "\n",
        "#Predicted clusters.\n",
        "predict=sc.fit_predict(X_train)\n",
        "\n",
        "#Graph results.\n",
        "plt.scatter(X_train[:, 0], X_train[:, 1], c=predict)\n",
        "plt.show()\n",
        "\n",
        "\n",
        "print ('Stdev:', predict.std())"
      ],
      "execution_count": 74,
      "outputs": [
        {
          "output_type": "display_data",
          "data": {
            "image/png": "[encoded data removed]",
            "text/plain": [
              "<Figure size 432x288 with 1 Axes>"
            ]
          },
          "metadata": {
            "tags": []
          }
        },
        {
          "output_type": "stream",
          "text": [
            "Stdev: 0.3856588399163413\n"
          ],
          "name": "stdout"
        }
      ]
    },
    {
      "cell_type": "code",
      "metadata": {
        "id": "H7TOHn2-gk4W",
        "colab_type": "code",
        "colab": {
          "base_uri": "https://localhost:8080/",
          "height": 52
        },
        "outputId": "0cd2cc9d-7ec8-4577-99fb-8b5a35e7f45a"
      },
      "source": [
        "sil_spec = []\n",
        "\n",
        "for sample in [X1, X2, X3, X4]:\n",
        "    model = sc.fit(sample)\n",
        "    labels = model.labels_\n",
        "    sil_spec.append(metrics.silhouette_score(sample, labels, metric='euclidean'))\n",
        "    \n",
        "print(sil_spec)\n",
        "print(sts.stdev(sil_spec))"
      ],
      "execution_count": 75,
      "outputs": [
        {
          "output_type": "stream",
          "text": [
            "[0.7667500799518636, 0.7701063208416715, 0.7735315546942685, 0.7757602784198375]\n",
            "0.0039486611835549655\n"
          ],
          "name": "stdout"
        }
      ]
    },
    {
      "cell_type": "markdown",
      "metadata": {
        "id": "fa2JjfhBiNmx",
        "colab_type": "text"
      },
      "source": [
        "Silhouette shows Spectral Clustering to have the higher stdev compared to the kmeans model, but the clustering shows better distribution than mean shift."
      ]
    },
    {
      "cell_type": "markdown",
      "metadata": {
        "id": "tzmb-tuigbpC",
        "colab_type": "text"
      },
      "source": [
        "## Affinity Propagation"
      ]
    },
    {
      "cell_type": "code",
      "metadata": {
        "id": "CL2Nz4Hc9fZB",
        "colab_type": "code",
        "outputId": "b61761a1-90b0-4363-c221-99ddc91c84e2",
        "colab": {
          "base_uri": "https://localhost:8080/",
          "height": 34
        }
      },
      "source": [
        "from sklearn.cluster import AffinityPropagation\n",
        "from sklearn import metrics\n",
        "\n",
        "\n",
        "af = AffinityPropagation().fit(X_train)\n",
        "\n",
        "\n",
        "\n",
        "cluster_centers_indices = af.cluster_centers_indices_\n",
        "n_clusters_ = len(cluster_centers_indices)\n",
        "labels = af.labels_\n",
        "\n",
        "print('Estimated number of clusters: {}'.format(n_clusters_))"
      ],
      "execution_count": 76,
      "outputs": [
        {
          "output_type": "stream",
          "text": [
            "Estimated number of clusters: 2415\n"
          ],
          "name": "stdout"
        }
      ]
    },
    {
      "cell_type": "code",
      "metadata": {
        "id": "KJctePBNDkt0",
        "colab_type": "code",
        "outputId": "eb8e9261-0565-40a8-f015-d0a24b6fae9b",
        "colab": {
          "base_uri": "https://localhost:8080/",
          "height": 281
        }
      },
      "source": [
        "from itertools import cycle\n",
        "\n",
        "plt.figure(1)\n",
        "plt.clf()\n",
        "\n",
        "# Cycle through each cluster and graph them with a center point for the\n",
        "# exemplar and lines from the exemplar to each data point in the cluster.\n",
        "colors = cycle('bgrcmykbgrcmykbgrcmykbgrcmyk')\n",
        "for k, col in zip(range(n_clusters_), colors):\n",
        "    class_members = labels == k\n",
        "    cluster_center = X_train[cluster_centers_indices[k]]\n",
        "    plt.plot(X_train[class_members, 0], X_train[class_members, 1], col + '.')\n",
        "    plt.plot(cluster_center[0],\n",
        "             cluster_center[1],\n",
        "             'o',\n",
        "             markerfacecolor=col,\n",
        "             markeredgecolor='k')\n",
        "    for x in X_train[class_members]:\n",
        "        plt.plot([cluster_center[0], x[0]], [cluster_center[1], x[1]], col)\n",
        "\n",
        "plt.title('Estimated number of clusters: {}'.format(n_clusters_))\n",
        "plt.show()"
      ],
      "execution_count": 77,
      "outputs": [
        {
          "output_type": "display_data",
          "data": {
            "image/png": "[encoded data removed]",
            "text/plain": [
              "<Figure size 432x288 with 1 Axes>"
            ]
          },
          "metadata": {
            "tags": []
          }
        }
      ]
    },
    {
      "cell_type": "code",
      "metadata": {
        "id": "nXkjypQ4D1-B",
        "colab_type": "code",
        "colab": {
          "base_uri": "https://localhost:8080/",
          "height": 52
        },
        "outputId": "b317dec6-f7f9-407d-f221-70afa7e16291"
      },
      "source": [
        "#This will run forever\n",
        "\n",
        "sil_ap = []\n",
        "\n",
        "for sample in [X1, X2, X3, X4]:\n",
        "    model = af.fit(sample)\n",
        "    labels = model.labels_\n",
        "    sil_ap.append(metrics.silhouette_score(sample, labels, metric='euclidean'))\n",
        "    \n",
        "print(sil_ap)\n",
        "print(sts.stdev(sil_ap))"
      ],
      "execution_count": 78,
      "outputs": [
        {
          "output_type": "stream",
          "text": [
            "[0.16987173193367716, 0.0977295364683423, 0.0745287581309583, 0.10040664622780746]\n",
            "0.041165605866939084\n"
          ],
          "name": "stdout"
        }
      ]
    },
    {
      "cell_type": "markdown",
      "metadata": {
        "id": "ppp69G5R_Q6q",
        "colab_type": "text"
      },
      "source": [
        "Silhouette shows highest standard deviation of all the models. So much overlap in the clusters as well and an outrageous amount of clusters to boot (typical of Affinity Propagation)"
      ]
    }
  ]
}